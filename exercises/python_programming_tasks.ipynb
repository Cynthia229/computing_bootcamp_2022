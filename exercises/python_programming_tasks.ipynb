{
 "cells": [
  {
   "cell_type": "markdown",
   "metadata": {},
   "source": [
    "# Python Programming Tasks"
   ]
  },
  {
   "cell_type": "markdown",
   "metadata": {},
   "source": [
    "## Modules"
   ]
  },
  {
   "cell_type": "code",
   "execution_count": 1,
   "metadata": {},
   "outputs": [],
   "source": [
    "import numpy as np\n",
    "import scipy.stats as st\n",
    "import matplotlib.pyplot as plt"
   ]
  },
  {
   "cell_type": "markdown",
   "metadata": {},
   "source": [
    "## Introduction\n",
    "\n",
    "The following tasks are from the slides `02_python.html`. \n",
    "\n",
    "Recall some of the notebook shortcuts:\n",
    "\n",
    "In edit mode:\n",
    "\n",
    "- Run cell and add new cell: `shift + enter`\n",
    "- Add a line within a cell: `enter`\n",
    "\n",
    "In command mode:\n",
    "\n",
    "- Save the notebook: `s`\n",
    "- Change cell to markdown: `m`\n",
    "- Change cell to code: `y`\n",
    "- Cut, copy, paste, delete a cell: `x`, `c`, `v`, `d`\n",
    "- Add a cell above, below: `a`, `b`"
   ]
  },
  {
   "cell_type": "markdown",
   "metadata": {},
   "source": [
    "## Tasks\n",
    "\n",
    "### Task 1\n",
    "\n",
    "Create a float variable and each of the four built-in data structures \n",
    "discussed (list, tuple, dictionary, set). For each object, use a combination\n",
    "of two methods or attributes and document in markdown their functionality."
   ]
  },
  {
   "cell_type": "code",
   "execution_count": null,
   "metadata": {},
   "outputs": [],
   "source": []
  },
  {
   "cell_type": "markdown",
   "metadata": {},
   "source": [
    "### Task 2\n",
    "\n",
    "Set object `dilemma`, given below, to all lowercase. Then, reverse the \n",
    "order of the letters. Lastly, capitalize the first \"b\".\n",
    "    \n",
    "*Hint:* `dilemma[start:end:step]`. What does a negative index do?"
   ]
  },
  {
   "cell_type": "code",
   "execution_count": 1,
   "metadata": {},
   "outputs": [],
   "source": [
    "dilemma = \"Borrow OR Rob\""
   ]
  },
  {
   "cell_type": "code",
   "execution_count": null,
   "metadata": {},
   "outputs": [],
   "source": []
  },
  {
   "cell_type": "markdown",
   "metadata": {},
   "source": [
    "### Task 3\n",
    "\n",
    "Write a function that takes a list and returns a list of the\n",
    "unique elements of the inputted list in descending order. Do this without \n",
    "using `set()`."
   ]
  },
  {
   "cell_type": "code",
   "execution_count": null,
   "metadata": {},
   "outputs": [],
   "source": []
  },
  {
   "cell_type": "markdown",
   "metadata": {},
   "source": [
    "### Task 4\n",
    "\n",
    "Write a function that counts the number of prime numbers less than or equal to a specified number. You may find\n",
    "`is_prime()` to be helpful."
   ]
  },
  {
   "cell_type": "code",
   "execution_count": 1,
   "metadata": {},
   "outputs": [],
   "source": [
    "def is_prime(n):\n",
    "  \"\"\"\n",
    "  This function checks if a number is prime.\n",
    "  \n",
    "  n = positive integer\n",
    "  \n",
    "  Example:\n",
    "  \n",
    "  is_prime(2)\n",
    "  is_prime(16)\n",
    "  \n",
    "  \"\"\"\n",
    "  \n",
    "  if n < 3:\n",
    "    result = n - 1\n",
    "  else:\n",
    "    for i in range(2, n):\n",
    "      if (n % i) == 0:\n",
    "        result = False\n",
    "        break\n",
    "    else:\n",
    "      result = True\n",
    "      \n",
    "  return bool(result)"
   ]
  },
  {
   "cell_type": "code",
   "execution_count": null,
   "metadata": {},
   "outputs": [],
   "source": []
  },
  {
   "cell_type": "markdown",
   "metadata": {},
   "source": [
    "### Task 5\n",
    "\n",
    "Create a histogram based off of random variables generated from a probability\n",
    "distribution of your choice."
   ]
  },
  {
   "cell_type": "code",
   "execution_count": null,
   "metadata": {},
   "outputs": [],
   "source": []
  },
  {
   "cell_type": "markdown",
   "metadata": {},
   "source": [
    "### Task 6\n",
    "\n",
    "Plot 100 time steps of a simple symmetric random walk that starts at the value 0."
   ]
  },
  {
   "cell_type": "code",
   "execution_count": null,
   "metadata": {},
   "outputs": [],
   "source": []
  }
 ],
 "metadata": {
  "kernelspec": {
   "display_name": "Python 3",
   "language": "python",
   "name": "python3"
  },
  "language_info": {
   "codemirror_mode": {
    "name": "ipython",
    "version": 3
   },
   "file_extension": ".py",
   "mimetype": "text/x-python",
   "name": "python",
   "nbconvert_exporter": "python",
   "pygments_lexer": "ipython3",
   "version": "3.7.6"
  }
 },
 "nbformat": 4,
 "nbformat_minor": 2
}
