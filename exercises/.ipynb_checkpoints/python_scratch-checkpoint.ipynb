{
 "cells": [
  {
   "cell_type": "markdown",
   "metadata": {},
   "source": [
    "# Python Scratch"
   ]
  },
  {
   "cell_type": "markdown",
   "metadata": {},
   "source": [
    "## Modules"
   ]
  },
  {
   "cell_type": "code",
   "execution_count": 1,
   "metadata": {},
   "outputs": [],
   "source": [
    "import numpy as np\n",
    "import scipy.stats as st\n",
    "import matplotlib.pyplot as plt"
   ]
  },
  {
   "cell_type": "markdown",
   "metadata": {},
   "source": [
    "## Introduction\n",
    "\n",
    "Use this notebook to experiment with Python as you work through the slides.\n",
    "\n",
    "Recall some of the notebook shortcuts:\n",
    "\n",
    "In edit mode:\n",
    "\n",
    "- Run cell and add new cell: `shift + enter`\n",
    "- Add a line within a cell: `enter`\n",
    "\n",
    "In command mode:\n",
    "\n",
    "- Save the notebook: `s`\n",
    "- Change cell to markdown: `m`\n",
    "- Change cell to code: `y`\n",
    "- Cut, copy, paste, delete a cell: `x`, `c`, `v`, `d`\n",
    "- Add a cell above, below: `a`, `b`"
   ]
  },
  {
   "cell_type": "code",
   "execution_count": null,
   "metadata": {},
   "outputs": [],
   "source": []
  }
 ],
 "metadata": {
  "kernelspec": {
   "display_name": "Python 3",
   "language": "python",
   "name": "python3"
  },
  "language_info": {
   "codemirror_mode": {
    "name": "ipython",
    "version": 3
   },
   "file_extension": ".py",
   "mimetype": "text/x-python",
   "name": "python",
   "nbconvert_exporter": "python",
   "pygments_lexer": "ipython3",
   "version": "3.7.6"
  }
 },
 "nbformat": 4,
 "nbformat_minor": 2
}
